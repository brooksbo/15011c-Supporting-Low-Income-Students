{
 "cells": [
  {
   "cell_type": "markdown",
   "metadata": {},
   "source": [
    "# 15011c: CE Student Supports\n",
    "\n",
    "## Creating Long Survey Data Files (CalWORKs)\n",
    "#### _Programmer_: Bonnie Brooks\n",
    "\n",
    "##### **Purpose**: Reshaping survey data from wide to long to perform descriptive analyses for specific questions.\n",
    "##### **Deliverables**: long-form .dta file for CalWORKs questions and responses, by college, question, and answer."
   ]
  },
  {
   "cell_type": "code",
   "execution_count": null,
   "metadata": {},
   "outputs": [],
   "source": [
    "import pandas as pd\n",
    "import numpy as np\n",
    "!pip install natsort \n",
    "from natsort import natsorted, ns\n",
    "\n",
    "\n",
    "pd.set_option('precision', 0)\n",
    "pd.set_option('display.max_columns', 550)\n",
    "pd.set_option('display.max_rows', 550)"
   ]
  },
  {
   "cell_type": "code",
   "execution_count": null,
   "metadata": {},
   "outputs": [],
   "source": [
    "data = pd.read_excel(\"Student Supports Survey Data (CALWORKS).xlsx\")"
   ]
  },
  {
   "cell_type": "code",
   "execution_count": null,
   "metadata": {},
   "outputs": [],
   "source": [
    "data.head()"
   ]
  },
  {
   "cell_type": "code",
   "execution_count": null,
   "metadata": {},
   "outputs": [],
   "source": [
    "# create subset of dataset for CAL5\n",
    "CALQ_LIST = ['CAL1_', 'CAL2', 'CAL3', 'CAL5', 'CAL6', 'CAL7', 'CAL8', 'CAL9', 'CAL10', 'CAL12', 'CAL13']\n",
    "CALDF_LIST=[]\n",
    "for column in data.columns:\n",
    "    for q in CALQ_LIST:\n",
    "        if q in column:\n",
    "            CALDF_LIST.append(column)\n",
    "\n",
    "CALDF_LIST.extend(['COLLEGE_NAME', 'REGION'])"
   ]
  },
  {
   "cell_type": "code",
   "execution_count": null,
   "metadata": {},
   "outputs": [],
   "source": [
    "CALDF_LIST"
   ]
  },
  {
   "cell_type": "code",
   "execution_count": null,
   "metadata": {},
   "outputs": [],
   "source": [
    "CAL_DF = data[CALDF_LIST]"
   ]
  },
  {
   "cell_type": "code",
   "execution_count": null,
   "metadata": {},
   "outputs": [],
   "source": [
    "CAL_DF.head()"
   ]
  },
  {
   "cell_type": "code",
   "execution_count": null,
   "metadata": {},
   "outputs": [],
   "source": [
    "CAL_DF.drop(['ECAL1_1', 'ECAL1_2', 'ECAL1_3', 'ECAL1_4', 'ECAL1_5', 'ECAL1_6', 'ECAL1_7'], axis=1, inplace=True)"
   ]
  },
  {
   "cell_type": "code",
   "execution_count": null,
   "metadata": {},
   "outputs": [],
   "source": [
    "CALDF_LONG = pd.melt(CAL_DF, id_vars=[\"COLLEGE_NAME\", \"REGION\"], var_name=\"QUESTION\")\n",
    "CALDF_LONG[[\"QUESTION\", \"ANSWER_CHOICE\"]] = CALDF_LONG[\"QUESTION\"].str.split(\"_\", expand=True)\n",
    "CALDF_LONG[['COLLEGE_NAME', 'REGION', 'QUESTION', 'ANSWER_CHOICE', 'value']]"
   ]
  },
  {
   "cell_type": "code",
   "execution_count": null,
   "metadata": {},
   "outputs": [],
   "source": [
    "CALDF_LONG['QUESTION'].unique()"
   ]
  },
  {
   "cell_type": "markdown",
   "metadata": {},
   "source": [
    "#### Creating CATEGORY variable, which will group responses into bigger buckets of response types:"
   ]
  },
  {
   "cell_type": "code",
   "execution_count": null,
   "metadata": {},
   "outputs": [],
   "source": [
    "#E5, E14, C2, C9, NU2, CAL5\n",
    "    # Resource Referral (1, 2, 3)\n",
    "    # School-Related (4, 6, 7, 8, 11, 12, 13, 14, 15, 18, 19)\n",
    "    # Transportation (9)\n",
    "    # Home-Related (5, 9, 10, 20, 21, 24, 25)\n",
    "    # Child Care (16, 17)\n",
    "    # Cash-Aid (22, 23)\n",
    "    # Other (26)\n",
    "    # NaN (999)\n",
    "\n",
    "# CAL5, CAL12\n",
    "Resource_Referral = [\"1\", \"2\", \"3\"]\n",
    "School_Related = [\"4\", \"6\", \"7\", \"8\", \"11\", \"12\", \"13\", \"15\"]\n",
    "Personal_Social_Needs = [\"5\", \"9\", \"10\", \"20\", \"21\", \"24\"]\n",
    "Child_Care = [\"16\", \"17\"]\n",
    "Cash_Aid = [\"14\", \"18\", \"19\", \"22\", \"23\"]\n",
    "Other_1 = [\"26\"]\n",
    "NaN = [\"999\"]\n",
    "\n",
    "# CAL2, CAL3\n",
    "Referrals = [\"8\", \"9\", \"10\", \"11\", \"12\"]\n",
    "Flyers_Brochures = [\"6\", \"7\"]\n",
    "HS_Advertisements = [\"4\", \"5\"]\n",
    "Auto_Email = [\"1\"]\n",
    "Fin_Aid_Info = [\"2\", \"3\"]\n",
    "Word_of_Mouth = [\"13\"]\n",
    "Other_2 = [\"14\", \"15\"]\n",
    "NaN = [\"999\"]\n",
    "    \n",
    "# CAL1\n",
    "Financial_Aid_Information = [\"1\"]\n",
    "HS = [\"2\", \"3\"]\n",
    "EOPS = [\"4\"]\n",
    "County_Referral = [\"5\"]\n",
    "Other_3 = [\"6\", \"7\"]\n",
    "NaN = [\"999\"]\n",
    "\n",
    "# CAL9\n",
    "At_Least_Once = [\"1\"]\n",
    "Two_To_Five_Times = [\"2\"]\n",
    "More_Than_Five_Times = [\"3\"]\n",
    "Varies = [\"4\"]\n",
    "NaN = [\"999\"]\n",
    "\n",
    "# CAL10\n",
    "Phone = [\"1\"]\n",
    "Text_Message = [\"2\"]\n",
    "Email = [\"3\"]\n",
    "In_Person = [\"4\"]\n",
    "Other_4 = [\"5\"]\n",
    "NaN = [\"999\"]"
   ]
  },
  {
   "cell_type": "code",
   "execution_count": null,
   "metadata": {},
   "outputs": [],
   "source": [
    "mask_cal5 = CALDF_LONG['QUESTION'] == 'CAL5'\n",
    "mask_cal6 = CALDF_LONG['QUESTION'] == 'CAL6'\n",
    "mask_cal7 = CALDF_LONG['QUESTION'] == 'CAL7'\n",
    "mask_cal8 = CALDF_LONG['QUESTION'] == 'CAL8'\n",
    "mask_cal12 = CALDF_LONG['QUESTION'] == 'CAL12'\n",
    "mask_cal13 = CALDF_LONG['QUESTION'] == 'CAL13'\n",
    "mask_2 = (CALDF_LONG['ANSWER_CHOICE'].isin(Resource_Referral))\n",
    "mask_3 = (CALDF_LONG['ANSWER_CHOICE'].isin(School_Related))\n",
    "mask_4 = (CALDF_LONG['ANSWER_CHOICE'].isin(Personal_Social_Needs))\n",
    "mask_5 = (CALDF_LONG['ANSWER_CHOICE'].isin(Child_Care))\n",
    "mask_6 = (CALDF_LONG['ANSWER_CHOICE'].isin(Cash_Aid))\n",
    "mask_7 = (CALDF_LONG['ANSWER_CHOICE'].isin(Other_1))\n",
    "mask_nan = (CALDF_LONG['ANSWER_CHOICE'].isin(NaN))"
   ]
  },
  {
   "cell_type": "code",
   "execution_count": null,
   "metadata": {},
   "outputs": [],
   "source": [
    "CALDF_LONG.loc[(mask_cal5 | mask_cal12 | mask_cal6 | mask_cal13 | mask_cal7 | mask_cal8) & mask_2, 'CATEGORY'] = 'Resource Referral'\n",
    "CALDF_LONG.loc[(mask_cal5 | mask_cal12 | mask_cal6 | mask_cal13 | mask_cal7 | mask_cal8) & mask_3, 'CATEGORY'] = 'School-Related'\n",
    "CALDF_LONG.loc[(mask_cal5 | mask_cal12 | mask_cal6 | mask_cal13 | mask_cal7 | mask_cal8) & mask_4, 'CATEGORY'] = 'Personal/Social Needs'\n",
    "CALDF_LONG.loc[(mask_cal5 | mask_cal12 | mask_cal6 | mask_cal13 | mask_cal7 | mask_cal8) & mask_5, 'CATEGORY'] = 'Child-Care'\n",
    "CALDF_LONG.loc[(mask_cal5 | mask_cal12 | mask_cal6 | mask_cal13 | mask_cal7 | mask_cal8) & mask_6, 'CATEGORY'] = 'Cash-Aid'\n",
    "CALDF_LONG.loc[(mask_cal5 | mask_cal12 | mask_cal6 | mask_cal13 | mask_cal7 | mask_cal8) & mask_7, 'CATEGORY'] = 'Other'"
   ]
  },
  {
   "cell_type": "code",
   "execution_count": null,
   "metadata": {},
   "outputs": [],
   "source": [
    "mask_cal2 = CALDF_LONG['QUESTION'] == 'CAL2'\n",
    "mask_cal3 = CALDF_LONG['QUESTION'] == 'CAL3'\n",
    "mask_2_1 = (CALDF_LONG['ANSWER_CHOICE'].isin(Referrals))\n",
    "mask_2_2 = (CALDF_LONG['ANSWER_CHOICE'].isin(Flyers_Brochures))\n",
    "mask_2_3 = (CALDF_LONG['ANSWER_CHOICE'].isin(HS_Advertisements))\n",
    "mask_2_4 = (CALDF_LONG['ANSWER_CHOICE'].isin(Auto_Email))\n",
    "mask_2_5 = (CALDF_LONG['ANSWER_CHOICE'].isin(Fin_Aid_Info))\n",
    "mask_2_6 = (CALDF_LONG['ANSWER_CHOICE'].isin(Word_of_Mouth))\n",
    "mask_2_7 = (CALDF_LONG['ANSWER_CHOICE'].isin(Other_2))"
   ]
  },
  {
   "cell_type": "code",
   "execution_count": null,
   "metadata": {},
   "outputs": [],
   "source": [
    "CALDF_LONG.loc[(mask_cal2 | mask_cal3) & mask_2_1, 'CATEGORY'] = 'Referrals'\n",
    "CALDF_LONG.loc[(mask_cal2 | mask_cal3) & mask_2_2, 'CATEGORY'] = 'Flyers/Brochures'\n",
    "CALDF_LONG.loc[(mask_cal2 | mask_cal3) & mask_2_3, 'CATEGORY'] = 'Advertising in High Schools'\n",
    "CALDF_LONG.loc[(mask_cal2 | mask_cal3) & mask_2_4, 'CATEGORY'] = 'Auto Email'\n",
    "CALDF_LONG.loc[(mask_cal2 | mask_cal3) & mask_2_5, 'CATEGORY'] = 'Financial Aid Information'\n",
    "CALDF_LONG.loc[(mask_cal2 | mask_cal3) & mask_2_6, 'CATEGORY'] = 'Word of Mouth'\n",
    "CALDF_LONG.loc[(mask_cal2 | mask_cal3) & mask_2_7, 'CATEGORY'] = 'Other'"
   ]
  },
  {
   "cell_type": "code",
   "execution_count": null,
   "metadata": {},
   "outputs": [],
   "source": [
    "mask_cal1 = CALDF_LONG['QUESTION'] == 'CAL1'\n",
    "mask_3_1 = (CALDF_LONG['ANSWER_CHOICE'].isin(Financial_Aid_Information))\n",
    "mask_3_2 = (CALDF_LONG['ANSWER_CHOICE'].isin(HS))\n",
    "mask_3_3 = (CALDF_LONG['ANSWER_CHOICE'].isin(EOPS))\n",
    "mask_3_4 = (CALDF_LONG['ANSWER_CHOICE'].isin(County_Referral))\n",
    "mask_3_5 = (CALDF_LONG['ANSWER_CHOICE'].isin(Other_3))"
   ]
  },
  {
   "cell_type": "code",
   "execution_count": null,
   "metadata": {},
   "outputs": [],
   "source": [
    "CALDF_LONG.loc[(mask_cal1) & mask_3_1, 'CATEGORY'] = 'Financial Aid Information'\n",
    "CALDF_LONG.loc[(mask_cal1) & mask_3_2, 'CATEGORY'] = 'High Schools'\n",
    "CALDF_LONG.loc[(mask_cal1) & mask_3_3, 'CATEGORY'] = 'EOPS'\n",
    "CALDF_LONG.loc[(mask_cal1) & mask_3_4, 'CATEGORY'] = 'County Referral'\n",
    "CALDF_LONG.loc[(mask_cal1) & mask_3_5, 'CATEGORY'] = 'Other'"
   ]
  },
  {
   "cell_type": "code",
   "execution_count": null,
   "metadata": {},
   "outputs": [],
   "source": [
    "mask_cal9 = CALDF_LONG['QUESTION'] == 'CAL9'\n",
    "mask_4_1 = (CALDF_LONG['ANSWER_CHOICE'].isin(At_Least_Once))\n",
    "mask_4_2 = (CALDF_LONG['ANSWER_CHOICE'].isin(Two_To_Five_Times))\n",
    "mask_4_3 = (CALDF_LONG['ANSWER_CHOICE'].isin(More_Than_Five_Times))\n",
    "mask_4_4 = (CALDF_LONG['ANSWER_CHOICE'].isin(Varies))"
   ]
  },
  {
   "cell_type": "code",
   "execution_count": null,
   "metadata": {},
   "outputs": [],
   "source": [
    "CALDF_LONG.loc[(mask_cal9) & mask_4_1, 'CATEGORY'] = 'At least once'\n",
    "CALDF_LONG.loc[(mask_cal9) & mask_4_2, 'CATEGORY'] = 'Two to five times'\n",
    "CALDF_LONG.loc[(mask_cal9) & mask_4_3, 'CATEGORY'] = 'More than five times'\n",
    "CALDF_LONG.loc[(mask_cal9) & mask_4_4, 'CATEGORY'] = 'Varies'"
   ]
  },
  {
   "cell_type": "code",
   "execution_count": null,
   "metadata": {},
   "outputs": [],
   "source": [
    "mask_cal10 = CALDF_LONG['QUESTION'] == 'CAL10'\n",
    "mask_5_1 = (CALDF_LONG['ANSWER_CHOICE'].isin(Phone))\n",
    "mask_5_2 = (CALDF_LONG['ANSWER_CHOICE'].isin(Text_Message))\n",
    "mask_5_3 = (CALDF_LONG['ANSWER_CHOICE'].isin(Email))\n",
    "mask_5_4 = (CALDF_LONG['ANSWER_CHOICE'].isin(In_Person))\n",
    "mask_5_5 = (CALDF_LONG['ANSWER_CHOICE'].isin(Other_4))"
   ]
  },
  {
   "cell_type": "code",
   "execution_count": null,
   "metadata": {},
   "outputs": [],
   "source": [
    "CALDF_LONG.loc[(mask_cal10) & mask_5_1, 'CATEGORY'] = 'Phone'\n",
    "CALDF_LONG.loc[(mask_cal10) & mask_5_2, 'CATEGORY'] = 'Text Message'\n",
    "CALDF_LONG.loc[(mask_cal10) & mask_5_3, 'CATEGORY'] = 'Email'\n",
    "CALDF_LONG.loc[(mask_cal10) & mask_5_4, 'CATEGORY'] = 'In-Person Appointment'\n",
    "CALDF_LONG.loc[(mask_cal10) & mask_5_5, 'CATEGORY'] = 'Other'\n",
    "CALDF_LONG.loc[(mask_cal5 | mask_cal12 | mask_cal6 | mask_cal7 | mask_cal8 | mask_cal9 | mask_cal13 | mask_cal2 | mask_cal3 | mask_cal1 | mask_cal10) & mask_nan, 'CATEGORY'] = 'NaN'"
   ]
  },
  {
   "cell_type": "code",
   "execution_count": null,
   "metadata": {},
   "outputs": [],
   "source": [
    "CALDF_LONG['QUESTION'].unique()"
   ]
  },
  {
   "cell_type": "code",
   "execution_count": null,
   "metadata": {},
   "outputs": [],
   "source": [
    "CALDF_LONG"
   ]
  },
  {
   "cell_type": "code",
   "execution_count": null,
   "metadata": {},
   "outputs": [],
   "source": [
    "# TEXT QUESTIONS\n",
    "\n",
    "CALDF_LONG_TEXT = CALDF_LONG.loc[CALDF_LONG['QUESTION'].isin(['CAL6', 'CAL7', 'CAL8', 'CAL9', 'CAL13'])]"
   ]
  },
  {
   "cell_type": "code",
   "execution_count": null,
   "metadata": {},
   "outputs": [],
   "source": [
    "CALDF_LONG_TEXT"
   ]
  },
  {
   "cell_type": "code",
   "execution_count": null,
   "metadata": {},
   "outputs": [],
   "source": [
    "CALDF_LONG_TEXT['QUESTION'].unique()"
   ]
  },
  {
   "cell_type": "code",
   "execution_count": null,
   "metadata": {},
   "outputs": [],
   "source": [
    "CALDF_LONG_TEXT['value'].unique()"
   ]
  },
  {
   "cell_type": "code",
   "execution_count": null,
   "metadata": {},
   "outputs": [],
   "source": [
    "# Get names of indexes for which column Age has value 30\n",
    "indexNames = CALDF_LONG[CALDF_LONG['QUESTION'].isin(['CAL6', 'CAL7', 'CAL8', 'CAL9', 'CAL13'])].index\n",
    "\n",
    "# Delete these row indexes from dataFrame\n",
    "CALDF_LONG.drop(indexNames , inplace=True)"
   ]
  },
  {
   "cell_type": "markdown",
   "metadata": {},
   "source": [
    "#### Various checks before saving file to Excel:"
   ]
  },
  {
   "cell_type": "code",
   "execution_count": null,
   "metadata": {},
   "outputs": [],
   "source": [
    "CALDF_LONG"
   ]
  },
  {
   "cell_type": "code",
   "execution_count": null,
   "metadata": {},
   "outputs": [],
   "source": [
    "CALDF_LONG_TEXT[CALDF_LONG_TEXT['QUESTION'] == \"CAL8\"]"
   ]
  },
  {
   "cell_type": "code",
   "execution_count": null,
   "metadata": {},
   "outputs": [],
   "source": [
    "CALDF_LONG.value.unique()"
   ]
  },
  {
   "cell_type": "code",
   "execution_count": null,
   "metadata": {},
   "outputs": [],
   "source": [
    "CALDF_LONG.ANSWER_CHOICE.unique()"
   ]
  },
  {
   "cell_type": "code",
   "execution_count": null,
   "metadata": {},
   "outputs": [],
   "source": [
    "CALDF_LONG.to_excel('CalWorks Long.xlsx')"
   ]
  },
  {
   "cell_type": "code",
   "execution_count": null,
   "metadata": {},
   "outputs": [],
   "source": [
    "CALDF_LONG_TEXT.to_excel('CalWorks Long Text.xlsx')"
   ]
  },
  {
   "cell_type": "code",
   "execution_count": null,
   "metadata": {},
   "outputs": [],
   "source": []
  }
 ],
 "metadata": {
  "kernelspec": {
   "display_name": "Python 3",
   "language": "python",
   "name": "python3"
  },
  "language_info": {
   "codemirror_mode": {
    "name": "ipython",
    "version": 3
   },
   "file_extension": ".py",
   "mimetype": "text/x-python",
   "name": "python",
   "nbconvert_exporter": "python",
   "pygments_lexer": "ipython3",
   "version": "3.7.0"
  }
 },
 "nbformat": 4,
 "nbformat_minor": 4
}
