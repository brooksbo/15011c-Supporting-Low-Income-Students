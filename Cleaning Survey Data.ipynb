{
 "cells": [
  {
   "cell_type": "markdown",
   "metadata": {},
   "source": [
    "# 15011c: CE Student Supports\n",
    "\n",
    "## Part 1: Cleaning Survey Data\n",
    "#### _Programmer_: Bonnie Brooks\n",
    "\n",
    "##### **Purpose**: Cleaning the CE Student Supports survey data downloaded from Qualtrics. \n",
    "##### **Deliverables**: clean Excel spreadsheet unique at the college level.\n",
    "\n",
    "###### Before running this code:\n",
    "* First, download survey data from Qualtrics via the Data & Analysis tab > Data > Export & Import button > Export\n",
    "* Save in R: drive folder as \"Survey Responses (most recent date of download).csv\"\n",
    "\n"
   ]
  },
  {
   "cell_type": "code",
   "execution_count": null,
   "metadata": {},
   "outputs": [],
   "source": [
    "# import libraries you need\n",
    "\n",
    "import pandas as pd\n",
    "import numpy as np\n",
    "\n",
    "# import survey data\n",
    "\n",
    "pd.set_option('precision', 0)\n",
    "\n",
    "data = pd.read_csv(\"Survey Responses (1.13.2020).csv\")\n",
    "\n",
    "data.head()"
   ]
  },
  {
   "cell_type": "code",
   "execution_count": null,
   "metadata": {},
   "outputs": [],
   "source": [
    "# initial data cleaning (i.e. dropping NaNs, unwanted rows, etc.)\n",
    "\n",
    "data = data.drop(index=1)\n",
    "data = data.drop(index=0)\n",
    "data = data.dropna(subset = ['Q1'])\n",
    "data = data.fillna(\"NaN\")"
   ]
  },
  {
   "cell_type": "code",
   "execution_count": null,
   "metadata": {},
   "outputs": [],
   "source": [
    "# sampling questions as a check\n",
    "data[['QID11_1', 'QID11_2', 'QID11_3', 'Q1', 'E11', 'E18']].head(10)"
   ]
  },
  {
   "cell_type": "code",
   "execution_count": null,
   "metadata": {},
   "outputs": [],
   "source": [
    "data_cleaned = pd.DataFrame()\n",
    "data_cleaned[['ResponseId','FIRST_NAME', 'LAST_NAME', 'COLLEGE_NAME', 'EMAIL_ADDRESS', 'TITLE']] = data[['ResponseId','RecipientFirstName', 'RecipientLastName', 'QID13', 'QID11_3', 'QID158']]\n",
    "data_to_merge = data.drop(['StartDate', 'EndDate', 'Status', 'IPAddress', 'Progress', 'Duration (in seconds)', 'Finished', 'RecordedDate', 'ExternalReference', 'LocationLatitude', 'LocationLongitude', 'DistributionChannel', 'UserLanguage', 'QID141','QID158', 'RecipientFirstName', 'RecipientLastName', 'RecipientEmail','QID13', 'QID11_3', 'QID158'], axis=1)"
   ]
  },
  {
   "cell_type": "code",
   "execution_count": null,
   "metadata": {},
   "outputs": [],
   "source": [
    "# check to see if data_cleaned and data_to_merge look right\n",
    "data_to_merge.head(10)"
   ]
  },
  {
   "cell_type": "markdown",
   "metadata": {},
   "source": [
    "### _Problem_: \n",
    "###### Several questions (e.g. E5) allow survey respondents to indicate multiple text answers, which shows up as multiple text answers that are comma separated in a single cell for a given respondent. Need to create a single column for a given problem and corresponding answer choice with 0s/1s for if a respondent indicated that choice (e.g. column E5_1 for \"Case management\")  \n",
    "### _Answer_: \n",
    "###### - create dictionaries of possible answers for a given question\n",
    "###### - create function that creates a list of all possible answers for a given multiple choice question \n",
    "###### - create function that creates new columns based on a given question and possible answer\n",
    "###### - apply functions to all multiple choice questions"
   ]
  },
  {
   "cell_type": "code",
   "execution_count": null,
   "metadata": {},
   "outputs": [],
   "source": [
    "# dictionary of answers for questions with text answers\n",
    "\n",
    "dictionaries = {\n",
    "    \n",
    "# E1\n",
    "\n",
    "1 : {\n",
    "    \"Financial aid application information\" : \"1\",\n",
    "    \"Students who are placed in developmental/remedial education courses\" : \"2\",\n",
    "    \"Referrals from high school counselors or programs\"  : \"3\",\n",
    "    \"Information provided by county\" : \"4\",\n",
    "    \"Other information provided by students\" : \"5\",\n",
    "    \"Other\" : \"6\",\n",
    "    \"NaN\" : \"999\"\n",
    "},\n",
    "\n",
    "# E2, E3\n",
    "### MANUALLY CHANGE E2_7 E3_7 E2_8 E3_8\n",
    "\n",
    "2 : {\n",
    "    \"Program information sent to all students at the college\" : \"1\",\n",
    "    \"EOPS marketing department/division materials or events\" : \"2\",\n",
    "    \"Automatic district-generated email sent to students whose financial aid information suggested they would be eligible\" : \"3\",\n",
    "    \"Contacted by EOPS staff based on information from the students financial aid application\" : \"4\",\n",
    "    \"Contacted directly by the financial aid office\" : \"5\",\n",
    "    \"High school counselor or other advertising in high schools\" : \"6\",\n",
    "    \"Referrals from college staff or faculty e.g. on-campus organizations professors\" : \"7\",\n",
    "    \"Referrals from off-campus service providers e.g. community based organizations county departments\" : \"8\",\n",
    "    \"Word-of-mouth\" : \"9\",\n",
    "    \"Other\" : \"10\",\n",
    "    \"NaN\" : \"999\"\n",
    "},\n",
    "    \n",
    "# E5, E14, C2, C9, NU2, CAL5\n",
    "# Questions that are contingent on the above being answered:\n",
    "# E6, E7, E8, E9, E15, E16, C3, C4, C5, C10, NU3, NU4, NU5, NU8, NU9, CAL6, CAL7, CAL8, CAL12, CAL13, \n",
    "            \n",
    "3: {\n",
    "    \"Case-management/coordination of on-campus services\" : \"1\",\n",
    "    \"Referrals to county-provided services\" : \"2\",\n",
    "    \"Referrals to community based organizations\" : \"3\",\n",
    "    \"Academic counseling\": \"4\",\n",
    "    \"Personal counseling separate from academic counseling\": \"5\", \n",
    "    \"Tutoring\" : \"6\",\n",
    "    \"Textbook assistance\" : \"7\", \n",
    "    \"School supplies\" : \"8\", \n",
    "    \"Transportation\": \"9\", \n",
    "    \"Food pantry or meal tickets\" : \"10\", \n",
    "    \"Work study job\" : \"11\",\n",
    "    \"For-credit college courses e.g. College Success course\" : \"12\", \n",
    "    \"Computer lab not available for use by the general student body\" : \"13\", \n",
    "    \"Laptop loan program\" : \"14\",\n",
    "    \"Summer bridge program\" : \"15\", \n",
    "    \"Child care center\": \"16\", \n",
    "    \"Child care subsidies\" : \"17\", \n",
    "    \"Vocational board exam and certification fees\" : \"18\", \n",
    "    \"Transfer application fees to CSUs and UCs\" : \"19\", \n",
    "    \"Housing assistance\" : \"20\", \n",
    "    \"Mental health services\": \"21\", \n",
    "    \"Unmet needs grants\" : \"22\", \n",
    "    \"Emergency aid financial\" : \"23\",\n",
    "    \"Clothing\" : \"24\",\n",
    "    \"Tools\" : \"25\",\n",
    "    \"Others\" : \"26\", \n",
    "    \"NaN\" : \"999\"\n",
    "},\n",
    "\n",
    "### manually change E5_12, E14_12, C2_12, C9_12, NU2_12, CAL5_12\n",
    "    \n",
    "# E17, C11, NU10, CAL14\n",
    "\n",
    "4: {\n",
    "    \"First-come first-serve\" : \"1\",\n",
    "    \"Need-based by income\" : \"2\",\n",
    "    \"Need-based holistic\" : \"3\",\n",
    "    \"CalWORKs students\" : \"4\",\n",
    "    \"Age\" : \"5\",\n",
    "    \"Students children are at risk for foster-care\" : \"6\",\n",
    "    \"Students children at risk for foster-care\" : \"7\",\n",
    "    \"Current foster care status\" : \"8\",\n",
    "    \"Other\" : \"9\",\n",
    "    \"EOPS/CARE students\" : \"10\",\n",
    "    \"NaN\" : \"999\"\n",
    "},\n",
    "\n",
    "# CAL1\n",
    "    \n",
    "5: {\n",
    "    \"Automatic district-generated emails sent to based on the financial aid information in a students college application\" : \"1\",\n",
    "    \"Advertising in high schools\" : \"2\",\n",
    "    \"Communicating with high school counselors\" : \"3\",\n",
    "    \"Information provided by students through EOPS application\" : \"4\",\n",
    "    \"County referral\" : \"5\",\n",
    "    \"Other information provided by students\" : \"6\",\n",
    "    \"Other\" : \"7\",\n",
    "    'NaN': \"999\"\n",
    "},\n",
    "    \n",
    "# E11, C7, NU7, CAL10\n",
    "    \n",
    "6 : {\n",
    "    \"Phone\" : \"1\",\n",
    "    \"Text message\" : \"2\",\n",
    "    \"Email\" : \"3\",\n",
    "    \"In-person appointment\" : \"4\",\n",
    "    \"Other:\" : \"5\",\n",
    "    \"NaN\" : \"999\"\n",
    "},\n",
    "    \n",
    "\n",
    "# E13\n",
    "    \n",
    "7 : {\n",
    "    \"Limited capacity in the overall program a program cap\" : \"1\",\n",
    "    \"Lack of awareness of the program\" : \"2\",\n",
    "    \"Thinking the program wont be helpful\" : \"3\",\n",
    "    \"Thinking the program is inconvenient/will take too much time\" : \"4\",\n",
    "    \"Being enrolled in too few credits\" : \"5\",\n",
    "    \"Already having participated in EOPS for maximum number of terms\" : \"6\",\n",
    "    \"Having completed more than 70 units\" : \"7\",\n",
    "    \"Applying too late in the semester\" : \"8\",\n",
    "    \"Forms are too complicated or too much of a hassle\" : \"9\",\n",
    "    \"Not being a CA resident or Dream Act eligible\" : \"10\",\n",
    "    \"Being above the low-income threshold have too much income\" : \"11\",\n",
    "    \"Age restrictions\" : \"12\",\n",
    "    \"Not being considered academically disadvantaged\" : \"13\",\n",
    "    \"Being generally uninterested in the program\" : \"14\",\n",
    "    \"Other program eligibility requirements\" : \"15\",\n",
    "    \"Others\" : \"16\",\n",
    "    \"None\" : \"17\",\n",
    "    \"NaN\" : \"999\"\n",
    "    \n",
    "},\n",
    "  \n",
    "# E18, C12, NU11\n",
    "    \n",
    "8 : {\n",
    "    \"No longer feel like they are benefiting from the program\" : \"1\",\n",
    "    \"Dont have time for the program\" : \"2\",\n",
    "    \"Enrolling in too few credits\" : \"3\",\n",
    "    \"Maxed out terms allowed to be enrolled in EOPS/CARE\" : \"4\",\n",
    "    \"Not meeting with case manager/counselor\" : \"5\",\n",
    "    \"Income increases over low-income threshold\" : \"6\",\n",
    "    \"Student age requirements\" : \"7\",\n",
    "    \"Low GPA 1st offense\" : \"8\",\n",
    "    \"Low GPA repeat offense had chance to remedy GPA after a warning\" : \"9\",\n",
    "    \"Not following educational plan\" : \"10\",\n",
    "    \"Other measures of inadequate academic progress besides GPA\" : \"11\",\n",
    "    \"Other\" : \"12\",\n",
    "    \"None\" : \"13\",\n",
    "    \"Parent is no longer a single head of household\" : \"14\",\n",
    "    \"Income increases such that a parent is no longer meets the eligibility criteria for welfare\" : \"15\",\n",
    "    \"Childs age\" : \"16\",\n",
    "    \"NaN\" : \"999\"\n",
    "    \n",
    "},\n",
    "\n",
    "# E20\n",
    "    \n",
    "9 : {\n",
    "    \"Not aware of the program\" : \"1\",\n",
    "    \"Would not benefit from the program or find the program unnecessary\" : \"2\",\n",
    "    \"Do not have the time or resources to apply for the program\" : \"3\",\n",
    "    \"Do not have the time or resources to participate in the program\" : \"4\",\n",
    "    \"Do not want to be enrolled in the program due to stigma\" : \"5\",\n",
    "    \"Do not want to be enrolled in the program for other reasons\" : \"6\",\n",
    "    \"Other\" : \"7\",\n",
    "    \"NaN\" : \"999\"\n",
    "},\n",
    "\n",
    "# C8\n",
    "\n",
    "10 : {\n",
    "    \"Limited capacity in CARE a program cap\" : \"1\",\n",
    "    \"Not interested in the services CARE provides\" : \"2\",\n",
    "    \"Not a single parent household not a one-parent CalWORKs assitance unit as verified by county\" : \"3\",\n",
    "    \"Do not meet eligibility criteria for TANF/CalWORKs e.g. income is too high\" : \"4\",\n",
    "    \"Cannot show/verify welfare eligibility even though they are likely eligible\" : \"5\",\n",
    "    \"Children are older than 14\" : \"6\",\n",
    "    \"Parent is younger than 18\" : \"7\",\n",
    "    \"Other program eligibility requirements\" : \"8\",\n",
    "    \"Others\" : \"9\",\n",
    "    \"NaN\" : \"999\"\n",
    "},\n",
    "\n",
    "# CAL2\n",
    "# Questions that are contingent on the above being answered:\n",
    "# CAL3\n",
    "\n",
    "11 : {\n",
    "    \"Automatic email to all students\" : \"1\",\n",
    "    \"Automatic district-generated email sent only to students whose financial aid information suggested they would be eligible\" : \"2\",\n",
    "    \"Other use of financial aid information\" : \"3\",\n",
    "    \"High school counselor\" : \"4\",\n",
    "    \"Other advertising in high schools\" : \"5\",\n",
    "    \"Flyers/brochures posted in community based organizations off-campus\" : \"6\",\n",
    "    \"Flyers/brochures posted in on-campus organizations\" : \"7\",\n",
    "    \"Referrals from professors\" : \"8\",\n",
    "    \"Referrals from EOPS/CARE advisors or staff\" : \"9\",\n",
    "    \"Referrals from other school administrators\" : \"10\",\n",
    "    \"Referrals from other campus service providers\" : \"11\",\n",
    "    \"Referrals from county welfare department\" : \"12\",\n",
    "    \"Word-of-mouth\" : \"13\",\n",
    "    \"Not sure\" : \"14\",\n",
    "    \"Other\" : \"15\",\n",
    "    \"NaN\" : \"999\"\n",
    "},\n",
    "    \n",
    "# CAL15\n",
    "\n",
    "12 : {\n",
    "    \"Enrolling in too few credits\" : \"1\",\n",
    "    \"Not meeting with case manager/counselor\" : \"2\",\n",
    "    \"Income increases over the CalWORKs/TANF threshold\" : \"3\",\n",
    "    \"Age requirements parent or child\" : \"4\",\n",
    "    \"Not enough hours of combined education and work to meet Welfare-to-Work requirements\" : \"5\",\n",
    "    \"Timed-out of eligibility to use education as a Welfare-to-Work activity\" : \"6\",\n",
    "    \"Timed-out of CalWORKs/TANF in general\" : \"7\",\n",
    "    \"Sanctioned from CalWORKs/TANF for another reason\" : \"8\",\n",
    "    \"No longer feel like they are benefiting from the program\" : \"9\",\n",
    "    \"Dont have time for the program\" : \"10\",\n",
    "    \"Low GPA 1st offense\" : \"11\",\n",
    "    \"Low GPA repeat offense had chance to remedy GPA after a warning\" : \"12\",\n",
    "    \"Not following educational plan\" : \"13\",\n",
    "    \"Other measures of inadequate academic progress besides GPA\" : \"14\",\n",
    "    \"Other\" : \"15\",\n",
    "    \"NaN\" : \"999\"\n",
    "},\n",
    "    \n",
    "# O1\n",
    "    \n",
    "13 : {\n",
    "    \"Ujoma\" : \"1\",\n",
    "    \"Puente\" : \"2\",\n",
    "    \"Fresh Success part of SNAP E&T\" : \"3\",\n",
    "    \"Other SNAP E&T Program\" : \"4\",\n",
    "    \"Guardian Scholars\" : \"5\",\n",
    "    \"DSPS\" : \"6\",\n",
    "    \"Student Support Services program SSS\" : \"7\",\n",
    "    \"Formerly Incarcerated Students in Transition FIST or other programs targeting formerly incarcerated students\" : \"8\",\n",
    "    \"Other please list all applicable programs\" : \"9\",\n",
    "    \"None of the above\" : \"10\",\n",
    "    \"NaN\" : \"999\"\n",
    "},\n",
    "    \n",
    "# Q2\n",
    "\n",
    "14 : {\n",
    "    \"Yes\" : \"1\",\n",
    "    \"No\" : \"2\",\n",
    "    \"No but we offer a similar program for foster youth called:\" : \"3\",\n",
    "    \"NaN\" : \"999\"\n",
    "}\n",
    "}"
   ]
  },
  {
   "cell_type": "code",
   "execution_count": null,
   "metadata": {},
   "outputs": [],
   "source": [
    "# defining lists of questions pertaining to different dictionaries of possible answers\n",
    "\n",
    "questions_for_dict_1 = ['E1']\n",
    "questions_for_dict_2 = ['E2', 'E3']\n",
    "questions_for_dict_3 = ['E5', 'E14', 'C2', 'C9', 'CAL5', 'CAL12', 'NU2', 'NU8']\n",
    "questions_for_dict_4 = ['E17', 'C11', 'NU10', 'CAL14']\n",
    "questions_for_dict_5 = ['CAL1']\n",
    "questions_for_dict_6 = ['E11', 'C7', 'NU7', 'CAL10']\n",
    "questions_for_dict_7 = ['E13']\n",
    "questions_for_dict_8 = ['E18', 'C12', 'NU11']\n",
    "questions_for_dict_9 = ['E20']\n",
    "questions_for_dict_10 = ['C8']\n",
    "questions_for_dict_11 = ['CAL2', 'CAL3']\n",
    "questions_for_dict_12 = ['CAL15']\n",
    "questions_for_dict_13 = ['O1']\n",
    "             \n",
    "# function that creates a list of all possible answers that survey respondents could've chosen for each multiple choice question\n",
    "    \n",
    "def uniqueanswer(question):\n",
    "    \n",
    "    newlist = []\n",
    "    \n",
    "    for cell in data[1:][question].str.replace(', ',' ').str.replace('\"', '').str.replace(\"'\", \"\").str.replace(\"\\(\", \"\").str.replace(\"\\)\", \"\").str.split(','):\n",
    "        \n",
    "#         if 'NaN' not in cell:\n",
    "            \n",
    "            newlist.extend(cell)\n",
    "            allanswers = list(set(newlist))\n",
    "            \n",
    "    return allanswers"
   ]
  },
  {
   "cell_type": "code",
   "execution_count": null,
   "metadata": {},
   "outputs": [],
   "source": [
    "# testing uniqueanswer function\n",
    "uniqueanswer('NU8') # dict(list(enumerate(uniqueanswer('E5'))))"
   ]
  },
  {
   "cell_type": "code",
   "execution_count": null,
   "metadata": {},
   "outputs": [],
   "source": [
    "# function that takes each possible answer from a multiple choice question and transforms into variables, adds to new cleaned data frame \"data_cleaned\"\n",
    "\n",
    "def newvars(question,column_names_list=['RESPONSE_ID','FIRST_NAME', 'LAST_NAME', 'COLLEGE_NAME', 'EMAIL_ADDRESS', 'TITLE'],allanswers=[]):\n",
    "    \n",
    "    for answer in allanswers:\n",
    "        \n",
    "            # mask command returns True/False if condition is met (in this case, if a question has a particular answer based on \"allanswers\")\n",
    "            \n",
    "            mask_allanswers = data[question].str.contains(answer) \n",
    "            column_name = \"\"\n",
    "            \n",
    "            if question in questions_for_dict_1: \n",
    "                column_name = question + \"_\" + dictionaries[1][answer]\n",
    "            \n",
    "            elif question in questions_for_dict_2:\n",
    "                column_name = question + \"_\" + dictionaries[2][answer]\n",
    "                \n",
    "            elif question in questions_for_dict_3:\n",
    "                column_name = question + \"_\" + dictionaries[3][answer]\n",
    "            \n",
    "            elif question in questions_for_dict_4:\n",
    "                column_name = question + \"_\" + dictionaries[4][answer]\n",
    "                \n",
    "            elif question in questions_for_dict_5:\n",
    "                column_name = question + \"_\" + dictionaries[5][answer]\n",
    "                \n",
    "            elif question in questions_for_dict_6:\n",
    "                column_name = question + \"_\" + dictionaries[6][answer]\n",
    "                \n",
    "            elif question in questions_for_dict_7:\n",
    "                column_name = question + \"_\" + dictionaries[7][answer]\n",
    "                \n",
    "            elif question in questions_for_dict_8:\n",
    "                column_name = question + \"_\" + dictionaries[8][answer]\n",
    "                \n",
    "            elif question in questions_for_dict_9:\n",
    "                column_name = question + \"_\" + dictionaries[9][answer]\n",
    "                \n",
    "            elif question in questions_for_dict_10:\n",
    "                column_name = question + \"_\" + dictionaries[10][answer]\n",
    "                \n",
    "            elif question in questions_for_dict_11:\n",
    "                column_name = question + \"_\" + dictionaries[11][answer]\n",
    "                \n",
    "            elif question in questions_for_dict_12:\n",
    "                column_name = question + \"_\" + dictionaries[12][answer]\n",
    "                \n",
    "            elif question in questions_for_dict_13:\n",
    "                column_name = question + \"_\" + dictionaries[13][answer]\n",
    "            \n",
    "            elif question == 'Q1':\n",
    "                \n",
    "                column_name = answer\n",
    "                \n",
    "            elif question == 'Q2':\n",
    "                \n",
    "                column_name = question + \"_\" + dictionaries[14][answer]\n",
    "                \n",
    "            else:\n",
    "                pass\n",
    "            \n",
    "            data_cleaned[column_name] = 0\n",
    "            data_cleaned.loc[mask_allanswers,column_name] = 1\n",
    "            column_names_list.append(column_name)\n",
    "\n",
    "    return data_cleaned[column_names_list].head(10)\n"
   ]
  },
  {
   "cell_type": "code",
   "execution_count": null,
   "metadata": {},
   "outputs": [],
   "source": [
    "# creating a list of all question numbers that are multiple choice\n",
    "\n",
    "#EOPS_questions_list = ['Q1', 'E1', 'E4_2', 'E4_5', 'E6_9', 'E7_9', 'E8_9', 'E9_9', 'E10', 'E12', 'E17', 'E19', 'C1', 'C3_9']\n",
    "#CALWORKS_questions_list = ['Q1', 'CAL1', 'CAL4_2', 'CAL4_5', 'CAL7_9', 'CAL8_9', 'CAL9', 'CAL11', 'E&CAL1_4']\n",
    "\n",
    "list_of_columns = ['Q1', 'Q2', 'E1', 'E2', 'E3', 'E5', 'E11', 'E13', 'E14', 'E17', 'E18', 'E20', 'C2', 'C7', 'C8', 'C9', 'C11', 'C12', 'NU2', 'NU7', 'NU8', 'NU10', 'NU11', 'CAL1', 'CAL2', 'CAL3', 'CAL5', 'CAL10', 'CAL12', 'CAL14', 'CAL15', 'O1']\n",
    "\n",
    "for column in list_of_columns:\n",
    "    data[column] = data[column].str.replace(', ',' ').str.replace('\"', '').str.replace(\"'\", \"\").str.replace(\"\\(\", \"\").str.replace(\"\\)\", \"\")\n",
    "    unique_answers = uniqueanswer(column)\n",
    "    newvars(column,column_names_list=['ResponseId','FIRST_NAME', 'LAST_NAME', 'COLLEGE_NAME', 'EMAIL_ADDRESS', 'TITLE'],allanswers=unique_answers)"
   ]
  },
  {
   "cell_type": "code",
   "execution_count": null,
   "metadata": {},
   "outputs": [],
   "source": [
    "data_cleaned['E5_1'].head(10)"
   ]
  },
  {
   "cell_type": "code",
   "execution_count": null,
   "metadata": {},
   "outputs": [],
   "source": [
    "# cleaning Q2 (asks about if college offers NextUp/CAFYES program for foster youth)\n",
    "\n",
    "data_cleaned['NextUp_CAFYES'] = data_cleaned['Q2_1']\n",
    "mask = data_cleaned['Q2_999'] == 1\n",
    "data_cleaned.loc[mask, 'NextUp_CAFYES'] = 999"
   ]
  },
  {
   "cell_type": "code",
   "execution_count": null,
   "metadata": {},
   "outputs": [],
   "source": [
    "data_cleaned[['FIRST_NAME', 'LAST_NAME', 'COLLEGE_NAME', 'EOPS/CARE', 'CalWORKs', 'Q2_1', 'Q2_2', 'Q2_3', 'Q2_999', 'NextUp_CAFYES']].head(15)"
   ]
  },
  {
   "cell_type": "code",
   "execution_count": null,
   "metadata": {},
   "outputs": [],
   "source": [
    "# merging dataframe of cleaned questions with dataframe of rest of questions\n",
    "\n",
    "data_final = pd.merge(data_cleaned,\n",
    "                 data_to_merge,\n",
    "                 on='ResponseId')\n",
    "\n",
    "data_final[['FIRST_NAME', 'LAST_NAME', 'COLLEGE_NAME', 'EOPS/CARE', 'CalWORKs', 'E1', 'E12', 'E2_7', 'E5_5', 'E2_9','E17_2','E18_11', 'CAL2_13', 'E&CAL1_1', 'O1_1']].head(10)\n",
    "# E18_2: Don't have time for the program"
   ]
  },
  {
   "cell_type": "code",
   "execution_count": null,
   "metadata": {},
   "outputs": [],
   "source": [
    "cols = data_final.filter(regex='^(E&CAL)\\d+_\\d+.*(?<!TEXT)$').columns # .*(?<!a)$\n",
    "data_final[cols].head(10)"
   ]
  },
  {
   "cell_type": "code",
   "execution_count": null,
   "metadata": {},
   "outputs": [],
   "source": [
    "# creating list of all columns (i.e. survey questions) in dataframe\n",
    "\n",
    "cols = data_final.filter(regex='^(E|C|NU|O)').columns # .*(?<!a)$\n",
    "cols_add = pd.Index(['FIRST_NAME', 'LAST_NAME', 'NextUp_CAFYES'])\n",
    "cols_final = cols.append(cols_add)"
   ]
  },
  {
   "cell_type": "code",
   "execution_count": null,
   "metadata": {},
   "outputs": [],
   "source": [
    "the_columns = list(cols_final)\n",
    "the_columns.sort()"
   ]
  },
  {
   "cell_type": "code",
   "execution_count": null,
   "metadata": {},
   "outputs": [],
   "source": [
    "# very long list generated! \n",
    "\n",
    "the_columns"
   ]
  },
  {
   "cell_type": "markdown",
   "metadata": {},
   "source": [
    "### _Problem_: \n",
    "###### Need to reflect valid missings. Cases where there are valid missings:\n",
    "###### - Some survey respondents only responded for one program (e.g. EOPS/CARE), which means they wouldn't answer questions for other programs (e.g. CalWORKs). \n",
    "###### - Some answer choices weren't chosen, meaning carry-forward questions pertaining to a given answer choice wouldn't need to be answered (e.g. if \"Transportation\" wasn't a service offered at a given college, the questions pertaining to \"Transportation\" wouldn't be filled out)\n",
    "### _Answer_: \n",
    "###### - group questions that pertain to a given program \n",
    "###### - create a program that indicates missing values where values are truly missing, and a \"999\" to indicate valid missings."
   ]
  },
  {
   "cell_type": "code",
   "execution_count": null,
   "metadata": {},
   "outputs": [],
   "source": [
    "# program that groups questions that pertain to a given program and indicates valid missings in questions for programs the respondent is not responding for\n",
    "# program also replaces text \"NaN\" with np.nan for those questions with TEXT suffix\n",
    "\n",
    "categories = ['EOPS/CARE', 'NextUp_CAFYES', 'CalWORKs']\n",
    "\n",
    "for x in categories:\n",
    "    \n",
    "    if x == 'EOPS/CARE':\n",
    "        \n",
    "        cols = data_final.filter(regex='(E|C|NU)\\d+$').columns # .*(?<!a)$\n",
    "        cols_1 = data_final.filter(regex='(E|C)\\d+$').columns # .*(?<!a)$\n",
    "        cols_2 = data_final.filter(regex='(E|C)\\d+_\\d+.*(?<!TEXT)$').columns\n",
    "        cols_3 = data_final.filter(regex='^CAL\\d+$').columns # .*(?<!a)$\n",
    "        cols_4 = data_final.filter(regex='^CAL\\d+_\\d+.*(?<!TEXT)$').columns\n",
    "        \n",
    "        data_final.loc[((data_final[cols] == \"NaN\").all(axis=1)) & (data_final['EOPS/CARE'] == 1), cols] = np.nan\n",
    "        data_final.loc[((data_final[cols].isnull()).all(axis=1)) & (data_final['EOPS/CARE'] == 1), cols_2] = np.nan\n",
    "        data_final.loc[(data_final['CalWORKs'] == 0), cols_4] = 999\n",
    "        \n",
    "        data_final_EOPS = data_final.loc[(data_final['EOPS/CARE'] == 1, )]\n",
    "        \n",
    "    elif x == 'CalWORKs':\n",
    "        \n",
    "        cols = data_final.filter(regex='^CAL\\d+$').columns # .*(?<!a)$\n",
    "        cols_2 = data_final.filter(regex='^CAL\\d+_\\d+.*(?<!TEXT)$').columns\n",
    "        cols_3 = data_final.filter(regex='(E|C)\\d+$').columns # .*(?<!a)$\n",
    "        cols_4 = data_final.filter(regex='(E|C)\\d+_\\d+.*(?<!TEXT)$').columns\n",
    "        \n",
    "        data_final.loc[((data_final[cols] == \"NaN\").all(axis=1)) & (data_final['CalWORKs'] == 1), cols] = np.nan\n",
    "        data_final.loc[((data_final[cols].isnull()).all(axis=1)) & (data_final['CalWORKs'] == 1), cols_2] = np.nan\n",
    "        data_final.loc[(data_final['EOPS/CARE'] == 0), cols_4] = 999\n",
    "        \n",
    "    elif x == 'NextUp_CAFYES':\n",
    "        \n",
    "        cols = data_final.filter(regex='NU\\d+$').columns # .*(?<!a)$\n",
    "        cols_2 = data_final.filter(regex='NU\\d+_\\d+.*(?<!TEXT)$').columns\n",
    "        cols_3 = data_final.filter(regex='^CAL\\d+$').columns # .*(?<!a)$\n",
    "        cols_4 = data_final.filter(regex='^CAL\\d+_\\d+.*(?<!TEXT)$').columns\n",
    "        \n",
    "        data_final.loc[((data_final[cols] == \"NaN\").all(axis=1)) & (data_final['NextUp_CAFYES'] == 1), cols] = np.nan\n",
    "        data_final.loc[((data_final[cols].isnull()).all(axis=1)) & (data_final['NextUp_CAFYES'] == 1), cols_2] = np.nan\n",
    "        data_final.loc[(data_final['CalWORKs'] == 0), cols_4] = 999"
   ]
  },
  {
   "cell_type": "code",
   "execution_count": null,
   "metadata": {},
   "outputs": [],
   "source": [
    "trus = data_final.filter(regex='O\\d+_\\d+.*(?<!TEXT)$').columns # .*(?<!a)$\n",
    "trus2 = trus.drop(['O1_999'])\n",
    "data_final.loc[(data_final['O1_999'] == 1) & ((data_final[trus2] == 0).all(axis=1)), trus2] = np.nan"
   ]
  },
  {
   "cell_type": "code",
   "execution_count": null,
   "metadata": {},
   "outputs": [],
   "source": [
    "nans = data_final.filter(regex='E\\d+_999$').columns"
   ]
  },
  {
   "cell_type": "code",
   "execution_count": null,
   "metadata": {},
   "outputs": [],
   "source": [
    "nans"
   ]
  },
  {
   "cell_type": "code",
   "execution_count": null,
   "metadata": {},
   "outputs": [],
   "source": [
    "# testing the valid missing code\n",
    "\n",
    "data_final[['FIRST_NAME', 'LAST_NAME', 'COLLEGE_NAME', 'EOPS/CARE', 'CalWORKs', 'NextUp_CAFYES', 'E1_999', 'E5_1', 'E6_1', 'E5_999', 'C2_1', 'C3_1', 'NU2_1', 'NU3_1', 'CAL5_1', 'CAL6_1', 'E&CAL1_1', 'O1_4', 'O1_999']].head(10)"
   ]
  },
  {
   "cell_type": "code",
   "execution_count": null,
   "metadata": {},
   "outputs": [],
   "source": [
    "# list of carry-forward questions related to a given question\n",
    "\n",
    "# questions_E5 = ['E6', 'E7', 'E8', 'E9']\n",
    "# questions_E14 = ['E15', 'E16']\n",
    "# questions_C2 = ['C3', 'C4', 'C5']\n",
    "# questions_C9 = ['C10']\n",
    "# questions_NU2 = ['NU3', 'NU4', 'NU5', 'NU8', 'NU9']\n",
    "# questions_CAL5 = ['CAL6', 'CAL7', 'CAL8', 'CAL12', 'CAL13']\n",
    "# questions_CAL2 = ['CAL3'] "
   ]
  },
  {
   "cell_type": "code",
   "execution_count": null,
   "metadata": {},
   "outputs": [],
   "source": [
    "\n",
    "\n",
    "list_of_questions = ['E6', 'E7', 'E8', 'E9', 'E15', 'E16', 'C3', 'C4', 'C5', 'C10', 'NU3', 'NU4', 'NU5', 'NU9', 'CAL6', 'CAL7', 'CAL8', 'CAL13']\n",
    "new_list = []\n",
    "for i in the_columns:\n",
    "    for x in list_of_questions:\n",
    "        if x in i:\n",
    "            new_list.append(i)"
   ]
  },
  {
   "cell_type": "code",
   "execution_count": null,
   "metadata": {},
   "outputs": [],
   "source": [
    "new_list"
   ]
  },
  {
   "cell_type": "code",
   "execution_count": null,
   "metadata": {},
   "outputs": [],
   "source": [
    "# recoding \"Empty\" values as \"999\" for text questions with only one answer\n",
    "\n",
    "new_list_2 = ['E10', 'E12', 'E19', 'C1', 'C6', 'NU1', 'NU6', 'CAL11', 'CAL9']\n",
    "for x in new_list_2:\n",
    "    data_final.loc[data_final[x] == \"Empty\", x] = \"999\""
   ]
  },
  {
   "cell_type": "code",
   "execution_count": null,
   "metadata": {},
   "outputs": [],
   "source": [
    "from natsort import natsorted, ns\n",
    "the_columns_final = natsorted(the_columns)"
   ]
  },
  {
   "cell_type": "code",
   "execution_count": null,
   "metadata": {},
   "outputs": [],
   "source": [
    "data_final = data_final[the_columns_final]"
   ]
  },
  {
   "cell_type": "code",
   "execution_count": null,
   "metadata": {},
   "outputs": [],
   "source": [
    "data_final[['FIRST_NAME', 'LAST_NAME', 'COLLEGE_NAME', 'E5_1','E6_1', 'E1_6_TEXT']].head(10)"
   ]
  },
  {
   "cell_type": "code",
   "execution_count": null,
   "metadata": {},
   "outputs": [],
   "source": [
    "data_final.to_excel(\"Data_Cleaned_Detail_Final.xlsx\", sheet_name=\"ALL\")"
   ]
  },
  {
   "cell_type": "code",
   "execution_count": null,
   "metadata": {},
   "outputs": [],
   "source": [
    "cols = [c for c in data_final.columns if '_TEXT' not in c]\n",
    "data_final = data_final[cols]"
   ]
  },
  {
   "cell_type": "code",
   "execution_count": null,
   "metadata": {},
   "outputs": [],
   "source": [
    "cols_2 = data_final.filter(regex='^(E|C|NU|CAL|E&CAL|O)\\d+_\\d+.*(?<!TEXT)$').columns"
   ]
  },
  {
   "cell_type": "code",
   "execution_count": null,
   "metadata": {},
   "outputs": [],
   "source": [
    "cols_add = pd.Index(['FIRST_NAME', 'LAST_NAME', 'NextUp_CAFYES', 'COLLEGE_NAME', 'EMAIL_ADDRESS', 'EOPS/CARE', 'CalWORKs', 'E10', 'C1', 'C6', 'CAL11', 'CAL9', 'E12', 'E19', 'NU1', 'NU6'])\n",
    "cols_3 = cols_2.append(cols_add)\n",
    "cols_final = list(cols_3)"
   ]
  },
  {
   "cell_type": "code",
   "execution_count": null,
   "metadata": {},
   "outputs": [],
   "source": [
    "from natsort import natsorted, ns\n",
    "the_cols_final = natsorted(cols_final)"
   ]
  },
  {
   "cell_type": "code",
   "execution_count": null,
   "metadata": {},
   "outputs": [],
   "source": [
    "data_final= data_final[the_cols_final]"
   ]
  },
  {
   "cell_type": "code",
   "execution_count": null,
   "metadata": {},
   "outputs": [],
   "source": [
    "data_final.head(10)"
   ]
  },
  {
   "cell_type": "code",
   "execution_count": null,
   "metadata": {},
   "outputs": [],
   "source": [
    "data_final.to_excel(\"Data_Cleaned_Final.xlsx\", sheet_name=\"ALL\")"
   ]
  },
  {
   "cell_type": "markdown",
   "metadata": {},
   "source": [
    "# _Notes_\n",
    "#### **Missing values**:\n",
    "###### - 999: valid missing due to program (i.e. respondent is only answering questions for EOPS/CARE, so would not answer questions for CalWORKs)\n",
    "###### - NaN: true missing (i.e. respondent should have responded to this question but did not, which means subsequent answers to linked questions may also be missing)\n",
    "\n",
    "#### **Next steps**:\n",
    "###### - Program valid missings in carry-forward questions pertaining to services respondents indicate their colleges does NOT offer (STATA)\n",
    "###### - Separate out EOPS/CARE, CalWORKs into separate data files for analysis\n",
    "###### - Manually go through each question of colleges that have multiple respondents for same program"
   ]
  }
 ],
 "metadata": {
  "kernelspec": {
   "display_name": "Python 3",
   "language": "python",
   "name": "python3"
  },
  "language_info": {
   "codemirror_mode": {
    "name": "ipython",
    "version": 3
   },
   "file_extension": ".py",
   "mimetype": "text/x-python",
   "name": "python",
   "nbconvert_exporter": "python",
   "pygments_lexer": "ipython3",
   "version": "3.7.4"
  }
 },
 "nbformat": 4,
 "nbformat_minor": 4
}
